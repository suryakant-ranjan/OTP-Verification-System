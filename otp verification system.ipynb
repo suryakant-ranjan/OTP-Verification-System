{
 "cells": [
  {
   "cell_type": "code",
   "execution_count": 89,
   "id": "cb54bc26-2329-4a55-ad17-2a179bb209fd",
   "metadata": {},
   "outputs": [],
   "source": [
    "import random\n",
    "import smtplib"
   ]
  },
  {
   "cell_type": "code",
   "execution_count": 90,
   "id": "501a1338-a0d7-4f06-b15f-daeea811ad3c",
   "metadata": {},
   "outputs": [],
   "source": [
    "OTP = random.randint(100000,999999)"
   ]
  },
  {
   "cell_type": "code",
   "execution_count": 91,
   "id": "c21ffb84-6833-40e1-88c3-ef629aff3abb",
   "metadata": {},
   "outputs": [],
   "source": [
    "server = smtplib.SMTP('smtp.gmail.com',587)"
   ]
  },
  {
   "cell_type": "code",
   "execution_count": 92,
   "id": "88538416-b8c1-4344-ac64-aeb9b6c3c6b4",
   "metadata": {},
   "outputs": [
    {
     "data": {
      "text/plain": [
       "(220, b'2.0.0 Ready to start TLS')"
      ]
     },
     "execution_count": 92,
     "metadata": {},
     "output_type": "execute_result"
    }
   ],
   "source": [
    "server.starttls()"
   ]
  },
  {
   "cell_type": "code",
   "execution_count": 93,
   "id": "08183cae-c5a1-4bce-b7ec-b6afa135ca33",
   "metadata": {},
   "outputs": [
    {
     "name": "stdin",
     "output_type": "stream",
     "text": [
      "Enter your name here:  sury\n",
      "Enter your email id:  ranjansuryakant981@gmail.com\n"
     ]
    }
   ],
   "source": [
    "name = input(\"Enter your name here: \")\n",
    "global receiver_email\n",
    "receiver_email = input(\"Enter your email id: \")"
   ]
  },
  {
   "cell_type": "code",
   "execution_count": 95,
   "id": "c562f916-5755-4fec-8146-f05f226141e1",
   "metadata": {},
   "outputs": [],
   "source": [
    "def email_verification(receiver_email):\n",
    "    email_check_1 = [\"gmail\",\"yahoo\",\"outlook\",\"hotmail\"]\n",
    "    email_check_2 = [\".co.in\",\".org\",\".com\",\".in\",\".edu\"]\n",
    "    count = 0\n",
    "    for domain in email_check_1:\n",
    "        if domain in receiver_email:\n",
    "            count+=1\n",
    "    for site in email_check_2:\n",
    "        if site in receiver_email:\n",
    "            count+=1\n",
    "    if \"@\" not in receiver_email or count !=2:\n",
    "        print(\"invalid email id\")\n",
    "        new_receiver_email = input(\"Enter correct email id: \")\n",
    "        email_verification(new_receiver_email)\n",
    "        return new_receiver_email\n",
    "    return receiver_email"
   ]
  },
  {
   "cell_type": "code",
   "execution_count": 96,
   "id": "eb32fc29-3137-4c90-a3fa-d6cd01b27431",
   "metadata": {},
   "outputs": [
    {
     "data": {
      "text/plain": [
       "{}"
      ]
     },
     "execution_count": 96,
     "metadata": {},
     "output_type": "execute_result"
    }
   ],
   "source": [
    "valid_receiver_email = email_verification(receiver_email)\n",
    "password = \"bymj kizf fcsy nnkv\"\n",
    "server.login(\"suryakantranjan220@gmail.com\",password)\n",
    "\n",
    "body = \"dear \"+name+\",\"+\"\\n\"+\"\\n\"+\" your otp for project verification is \"+str(OTP)+\".\"\n",
    "subject = \"OTP verification using python by suryakant\"\n",
    "message = f\"subject:{subject}\\n\\n{body}\"\n",
    "server.sendmail(\"suryakantranjan220@gmail.com\",valid_receiver_email,message)\n"
   ]
  },
  {
   "cell_type": "code",
   "execution_count": 97,
   "id": "3d346396-8289-46b1-a7a3-66cd1fc1f11f",
   "metadata": {},
   "outputs": [],
   "source": [
    "def sending_otp(receiver_email):\n",
    "    new_otp = random.randint(100000,999999)\n",
    "\n",
    "    body = \"Dear\"+name+\",\"+\"\\n\"+\"\\n\"+\" your otp is \"+str(new_otp)+\".\"\n",
    "    message = f\"subject:{subject}\\n\\n{body}\"\n",
    "    server.sendmail(\"suryakantranjan220@gmail.com\",receiver_email,message)\n",
    "    print(\"OTP has been sent to: \"+receiver_email)\n",
    "    received_otp = int(input(\"Enter your OTP: \"))\n",
    "    \n",
    "    if received_otp == new_otp:\n",
    "        print(\"your is verified\")\n",
    "    else:\n",
    "        print(\"oops! invalid otp\")\n",
    "        print(\"sending new otp\")\n",
    "        sending_otp(receiver_email)"
   ]
  },
  {
   "cell_type": "code",
   "execution_count": 98,
   "id": "969038bb-556c-41c6-b139-51496d9970ab",
   "metadata": {},
   "outputs": [
    {
     "name": "stdout",
     "output_type": "stream",
     "text": [
      "otp has sent to ranjansuryakant981@gmail.com\n"
     ]
    },
    {
     "name": "stdin",
     "output_type": "stream",
     "text": [
      "Enter your otp here:  202020\n"
     ]
    },
    {
     "name": "stdout",
     "output_type": "stream",
     "text": [
      "Oops!! Invalid OTP\n"
     ]
    },
    {
     "name": "stdin",
     "output_type": "stream",
     "text": [
      "Enter 'YES' to resend OTP on same email and 'NO' to enter a new email id: yes\n"
     ]
    },
    {
     "name": "stdout",
     "output_type": "stream",
     "text": [
      "OTP has been sent to: ranjansuryakant981@gmail.com\n"
     ]
    },
    {
     "name": "stdin",
     "output_type": "stream",
     "text": [
      "Enter your OTP:  604802\n"
     ]
    },
    {
     "name": "stdout",
     "output_type": "stream",
     "text": [
      "your is verified\n"
     ]
    },
    {
     "data": {
      "text/plain": [
       "(221,\n",
       " b'2.0.0 closing connection d9443c01a7336-206ae9131dbsm37895855ad.62 - gsmtp')"
      ]
     },
     "execution_count": 98,
     "metadata": {},
     "output_type": "execute_result"
    }
   ],
   "source": [
    "print(\"otp has sent to \"+valid_receiver_email)\n",
    "received_otp = int(input(\"Enter your otp here: \"))\n",
    "\n",
    "if received_otp == OTP:\n",
    "    print(\"your otp verified\")\n",
    "else:\n",
    "    print(\"Oops!! Invalid OTP\")\n",
    "    answer = input(\"Enter 'YES' to resend OTP on same email and 'NO' to enter a new email id:\")\n",
    "    YES = ['YES','yes','Yes']\n",
    "    NO = ['NO','no','No']\n",
    "    if answer in YES:\n",
    "        sending_otp(valid_receiver_email)\n",
    "    elif answer in NO:\n",
    "        new_receiver_email = input(\"Enter new email id: \")\n",
    "        email_verification(new_receiver_email)\n",
    "        sending_otp(new_receiver_email)\n",
    "    else:\n",
    "        print(\"Invalid input\")\n",
    "\n",
    "server.quit()  "
   ]
  },
  {
   "cell_type": "code",
   "execution_count": null,
   "id": "e11dbcd0-b65d-449d-811a-922786d0efc9",
   "metadata": {},
   "outputs": [],
   "source": []
  }
 ],
 "metadata": {
  "kernelspec": {
   "display_name": "Python 3 (ipykernel)",
   "language": "python",
   "name": "python3"
  },
  "language_info": {
   "codemirror_mode": {
    "name": "ipython",
    "version": 3
   },
   "file_extension": ".py",
   "mimetype": "text/x-python",
   "name": "python",
   "nbconvert_exporter": "python",
   "pygments_lexer": "ipython3",
   "version": "3.12.4"
  }
 },
 "nbformat": 4,
 "nbformat_minor": 5
}
